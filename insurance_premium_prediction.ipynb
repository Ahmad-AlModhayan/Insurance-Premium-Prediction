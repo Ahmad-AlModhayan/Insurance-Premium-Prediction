{
 "cells": [
  {
   "cell_type": "markdown",
   "metadata": {},
   "source": [
    "# Insurance Premium Prediction\n",
    "This notebook implements a custom Linear Regression model to predict insurance premiums based on various customer features. The implementation includes L2 regularization for better generalization and uses gradient descent for optimization."
   ]
  },
  {
   "cell_type": "markdown",
   "metadata": {},
   "source": [
    "## Import Required Libraries"
   ]
  },
  {
   "cell_type": "code",
   "execution_count": null,
   "metadata": {},
   "outputs": [],
   "source": [
    "import numpy as np\n",
    "import pandas as pd\n",
    "import matplotlib.pyplot as plt\n",
    "import seaborn as sns\n",
    "from sklearn.model_selection import train_test_split\n",
    "from sklearn.preprocessing import StandardScaler\n",
    "from sklearn.metrics import mean_squared_error, r2_score\n",
    "from sklearn.linear_model import LinearRegression as SklearnLinearRegression\n",
    "from sklearn.feature_selection import SelectKBest, f_regression"
   ]
  },
  {
   "cell_type": "markdown",
   "metadata": {},
   "source": [
    "## Custom Linear Regression Implementation\n",
    "Implementation of a custom Linear Regression model with L2 regularization using gradient descent optimization."
   ]
  },
  {
   "cell_type": "code",
   "execution_count": null,
   "metadata": {},
   "outputs": [],
   "source": [
    "class LinearRegression:\n",
    "    def __init__(self, learning_rate=0.01, n_iterations=1000, lambda_reg=0.1):\n",
    "        self.learning_rate = learning_rate\n",
    "        self.n_iterations = n_iterations\n",
    "        self.lambda_reg = lambda_reg\n",
    "        self.weights = None\n",
    "        self.bias = None\n",
    "        self.cost_history = []\n",
    "\n",
    "    def fit(self, X, y, tolerance=1e-6):\n",
    "        n_samples, n_features = X.shape\n",
    "        self.weights = np.zeros(n_features)\n",
    "        self.bias = 0\n",
    "        prev_cost = float('inf')\n",
    "        \n",
    "        for i in range(self.n_iterations):\n",
    "            y_pred = self._predict(X)\n",
    "            cost = (1/(2*n_samples)) * (\n",
    "                np.sum((y_pred - y) ** 2) + \n",
    "                self.lambda_reg * np.sum(self.weights ** 2)\n",
    "            )\n",
    "            self.cost_history.append(cost)\n",
    "            \n",
    "            if abs(prev_cost - cost) < tolerance:\n",
    "                print(f\"Convergence reached at iteration {i}\")\n",
    "                break\n",
    "            prev_cost = cost\n",
    "            \n",
    "            dw = (1/n_samples) * (\n",
    "                np.dot(X.T, (y_pred - y)) + \n",
    "                self.lambda_reg * self.weights\n",
    "            )\n",
    "            db = (1/n_samples) * np.sum(y_pred - y)\n",
    "            \n",
    "            self.weights -= self.learning_rate * dw\n",
    "            self.bias -= self.learning_rate * db\n",
    "\n",
    "    def _predict(self, X):\n",
    "        return np.dot(X, self.weights) + self.bias\n",
    "\n",
    "    def predict(self, X):\n",
    "        return self._predict(X)"
   ]
  },
  {
   "cell_type": "markdown",
   "metadata": {},
   "source": [
    "## Data Loading and Preprocessing\n",
    "Load the insurance data and perform necessary preprocessing steps including:\n",
    "- Feature extraction from dates\n",
    "- Handling missing values\n",
    "- One-hot encoding for categorical variables\n",
    "- Feature selection and scaling"
   ]
  },
  {
   "cell_type": "code",
   "execution_count": null,
   "metadata": {},
   "outputs": [],
   "source": [
    "def load_and_preprocess_data():\n",
    "    try:\n",
    "        train_data = pd.read_csv('data/train.csv')\n",
    "        test_data = pd.read_csv('data/test.csv')\n",
    "    except FileNotFoundError as e:\n",
    "        print(\"Error: Data file not found. Please check your file paths.\")\n",
    "        raise e\n",
    "    \n",
    "    X = train_data.drop(['Premium Amount', 'id'], axis=1)\n",
    "    y = train_data['Premium Amount']\n",
    "    \n",
    "    X['Policy Start Date'] = pd.to_datetime(X['Policy Start Date'], errors='coerce')\n",
    "    X['Start_Year'] = X['Policy Start Date'].dt.year\n",
    "    X['Start_Month'] = X['Policy Start Date'].dt.month\n",
    "    X['Start_Day'] = X['Policy Start Date'].dt.day\n",
    "    X.drop('Policy Start Date', axis=1, inplace=True)\n",
    "    \n",
    "    numeric_columns = X.select_dtypes(include=['int64', 'float64']).columns\n",
    "    categorical_columns = X.select_dtypes(include=['object']).columns\n",
    "    \n",
    "    for col in numeric_columns:\n",
    "        X[col] = X[col].fillna(X[col].median())\n",
    "    for col in categorical_columns:\n",
    "        X[col] = X[col].fillna(X[col].mode()[0])\n",
    "    \n",
    "    categorical_features = ['Gender', 'Smoking Status', 'Location', 'Marital Status', \n",
    "                          'Education Level', 'Occupation', 'Policy Type', \n",
    "                          'Property Type', 'Customer Feedback', 'Exercise Frequency']\n",
    "    X = pd.get_dummies(X, columns=categorical_features, drop_first=True)\n",
    "    \n",
    "    X_train, X_val, y_train, y_val = train_test_split(\n",
    "        X, y, test_size=0.2, random_state=42\n",
    "    )\n",
    "    \n",
    "    selector = SelectKBest(score_func=f_regression, k=10)\n",
    "    X_train_selected = selector.fit_transform(X_train, y_train)\n",
    "    X_val_selected = selector.transform(X_val)\n",
    "    \n",
    "    scaler = StandardScaler()\n",
    "    X_train_scaled = scaler.fit_transform(X_train_selected)\n",
    "    X_val_scaled = scaler.transform(X_val_selected)\n",
    "    \n",
    "    return X_train_scaled, X_val_scaled, y_train, y_val, scaler\n",
    "\n",
    "# Load and preprocess the data\n",
    "X_train, X_val, y_train, y_val, scaler = load_and_preprocess_data()"
   ]
  },
  {
   "cell_type": "markdown",
   "metadata": {},
   "source": [
    "## Model Training and Evaluation\n",
    "Train both our custom linear regression model and scikit-learn's implementation for comparison."
   ]
  },
  {
   "cell_type": "code",
   "execution_count": null,
   "metadata": {},
   "outputs": [],
   "source": [
    "# Train custom linear regression model\n",
    "custom_model = LinearRegression(learning_rate=0.01, n_iterations=1000, lambda_reg=0.1)\n",
    "custom_model.fit(X_train, y_train, tolerance=1e-6)\n",
    "\n",
    "# Make predictions using the custom model\n",
    "y_pred = custom_model.predict(X_val)\n",
    "\n",
    "# Calculate evaluation metrics for the custom model\n",
    "mse = mean_squared_error(y_val, y_pred)\n",
    "rmse = np.sqrt(mse)\n",
    "r2 = r2_score(y_val, y_pred)\n",
    "\n",
    "print('Custom Model Performance:')\n",
    "print(f'MSE: {mse:.2f}')\n",
    "print(f'RMSE: {rmse:.2f}')\n",
    "print(f'R2 Score: {r2:.2f}')\n",
    "\n",
    "# Compare with scikit-learn's Linear Regression\n",
    "sklearn_model = SklearnLinearRegression()\n",
    "sklearn_model.fit(X_train, y_train)\n",
    "sklearn_pred = sklearn_model.predict(X_val)\n",
    "sklearn_r2 = r2_score(y_val, sklearn_pred)\n",
    "print('Scikit-learn Model Performance:')\n",
    "print(f'R2 Score: {sklearn_r2:.2f}')"
   ]
  },
  {
   "cell_type": "markdown",
   "metadata": {},
   "source": [
    "## Visualization\n",
    "Plot the cost history and prediction comparison."
   ]
  },
  {
   "cell_type": "code",
   "execution_count": null,
   "metadata": {},
   "outputs": [],
   "source": [
    "# Plot cost history\n",
    "plt.figure(figsize=(10, 6))\n",
    "plt.plot(custom_model.cost_history, label='Cost')\n",
    "plt.title('Cost Function over Iterations')\n",
    "plt.xlabel('Iteration')\n",
    "plt.ylabel('Cost')\n",
    "plt.legend()\n",
    "plt.grid(True)\n",
    "plt.show()\n",
    "\n",
    "# Plot predictions\n",
    "plt.figure(figsize=(10, 6))\n",
    "plt.scatter(y_val, y_pred, alpha=0.5)\n",
    "plt.plot([y_val.min(), y_val.max()], [y_val.min(), y_val.max()], 'r--', lw=2)\n",
    "plt.title('Actual vs Predicted Insurance Premiums')\n",
    "plt.xlabel('Actual Premiums')\n",
    "plt.ylabel('Predicted Premiums')\n",
    "plt.grid(True)\n",
    "plt.show()"
   ]
  }
 ],
 "metadata": {
  "kernelspec": {
   "display_name": "Python 3",
   "language": "python",
   "name": "python3"
  },
  "language_info": {
   "codemirror_mode": {
    "name": "ipython",
    "version": 3
   },
   "file_extension": ".py",
   "mimetype": "text/x-python",
   "name": "python",
   "nbconvert_exporter": "python",
   "pygments_lexer": "ipython3",
   "version": "3.8.0"
  }
 },
 "nbformat": 4,
 "nbformat_minor": 4
}
